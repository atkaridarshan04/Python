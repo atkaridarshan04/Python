{
 "cells": [
  {
   "cell_type": "code",
   "execution_count": 1,
   "id": "a7bdf88e-db12-4c03-b6a4-32e5b1b1d03c",
   "metadata": {},
   "outputs": [],
   "source": [
    "import numpy as np"
   ]
  },
  {
   "cell_type": "code",
   "execution_count": 2,
   "id": "fd9c43ac-a562-4681-a397-663c5bcc472b",
   "metadata": {},
   "outputs": [],
   "source": [
    "# Creating a numpy array\n",
    "my1darr = np.array([3,6,32,12]) # 1-D array\n",
    "my2darr = np.array([[1,2,3,4]]) # 2-D array"
   ]
  },
  {
   "cell_type": "code",
   "execution_count": 3,
   "id": "7a6dda9e-0c51-401f-83cf-fe291aa62805",
   "metadata": {},
   "outputs": [
    {
     "data": {
      "text/plain": [
       "array([ 3,  6, 32, 12])"
      ]
     },
     "execution_count": 3,
     "metadata": {},
     "output_type": "execute_result"
    }
   ],
   "source": [
    "my1darr"
   ]
  },
  {
   "cell_type": "code",
   "execution_count": 4,
   "id": "13525ee5-329c-455e-82b1-6978892ab93c",
   "metadata": {},
   "outputs": [
    {
     "data": {
      "text/plain": [
       "[3, 6, 32, 12]"
      ]
     },
     "execution_count": 4,
     "metadata": {},
     "output_type": "execute_result"
    }
   ],
   "source": [
    "my1darr.tolist()"
   ]
  },
  {
   "cell_type": "code",
   "execution_count": 5,
   "id": "076843a6-0ad6-4278-8f7b-1640afd0938f",
   "metadata": {},
   "outputs": [
    {
     "data": {
      "text/plain": [
       "array([[1, 2, 3, 4]])"
      ]
     },
     "execution_count": 5,
     "metadata": {},
     "output_type": "execute_result"
    }
   ],
   "source": [
    "my2darr"
   ]
  },
  {
   "cell_type": "code",
   "execution_count": 6,
   "id": "864d68e4-71b8-49f0-8685-7c96fc499014",
   "metadata": {},
   "outputs": [
    {
     "data": {
      "text/plain": [
       "dtype('int32')"
      ]
     },
     "execution_count": 6,
     "metadata": {},
     "output_type": "execute_result"
    }
   ],
   "source": [
    "my1darr.dtype"
   ]
  },
  {
   "cell_type": "code",
   "execution_count": 7,
   "id": "7742904e-762e-44d5-a40d-2c92dddd57ca",
   "metadata": {},
   "outputs": [
    {
     "data": {
      "text/plain": [
       "dtype('int64')"
      ]
     },
     "execution_count": 7,
     "metadata": {},
     "output_type": "execute_result"
    }
   ],
   "source": [
    "myarr = np.array([[1,2,3,4]], np.int64) # creates array having dtype int64\n",
    "myarr.dtype"
   ]
  },
  {
   "cell_type": "code",
   "execution_count": 8,
   "id": "a488552a-32e0-4e5d-af43-bad6b77736e0",
   "metadata": {},
   "outputs": [
    {
     "data": {
      "text/plain": [
       "array([1., 2., 3., 4.])"
      ]
     },
     "execution_count": 8,
     "metadata": {},
     "output_type": "execute_result"
    }
   ],
   "source": [
    "myfloat = np.array([1,2,3,4], np.float64)\n",
    "myfloat"
   ]
  },
  {
   "cell_type": "code",
   "execution_count": 9,
   "id": "d4d7c2d9-1f62-4695-be54-ddd492863f40",
   "metadata": {},
   "outputs": [
    {
     "data": {
      "text/plain": [
       "array([[1, 2, 3, 4]], dtype=int64)"
      ]
     },
     "execution_count": 9,
     "metadata": {},
     "output_type": "execute_result"
    }
   ],
   "source": [
    "myarr"
   ]
  },
  {
   "cell_type": "code",
   "execution_count": 10,
   "id": "16ec7340-71a5-437d-b278-a22f3392c1c2",
   "metadata": {},
   "outputs": [
    {
     "data": {
      "text/plain": [
       "3"
      ]
     },
     "execution_count": 10,
     "metadata": {},
     "output_type": "execute_result"
    }
   ],
   "source": [
    "myarr[0,2]"
   ]
  },
  {
   "cell_type": "code",
   "execution_count": 11,
   "id": "9abab79b-324c-479b-9155-d53fc9fea80c",
   "metadata": {},
   "outputs": [
    {
     "data": {
      "text/plain": [
       "array([[  1,   2, 100,   4]], dtype=int64)"
      ]
     },
     "execution_count": 11,
     "metadata": {},
     "output_type": "execute_result"
    }
   ],
   "source": [
    "myarr[0,2] = 100\n",
    "myarr"
   ]
  },
  {
   "cell_type": "markdown",
   "id": "76053d2c-16c2-4bfe-81ef-b37ced1d1c13",
   "metadata": {},
   "source": [
    "# Mechanisms for creating NumPy Aarrays"
   ]
  },
  {
   "cell_type": "markdown",
   "id": "d0b2bf07-30ca-4886-b59f-e3501f47418e",
   "metadata": {},
   "source": [
    "**1. Conversion from other Python structures (eg. lists, tuples)**"
   ]
  },
  {
   "cell_type": "code",
   "execution_count": 12,
   "id": "3925015f-473d-4a5e-b97d-6885d81fda56",
   "metadata": {},
   "outputs": [
    {
     "data": {
      "text/plain": [
       "array([[ 3,  6,  9, 12],\n",
       "       [ 1,  2,  3,  4],\n",
       "       [11, 23, 45,  1]])"
      ]
     },
     "execution_count": 12,
     "metadata": {},
     "output_type": "execute_result"
    }
   ],
   "source": [
    "listarray = np.array([[3,6,9,12], [1,2,3,4], [11, 23, 45, 1]]) \n",
    "listarray"
   ]
  },
  {
   "cell_type": "code",
   "execution_count": 13,
   "id": "9f675851-e5bd-420e-922f-00ab3459b17f",
   "metadata": {},
   "outputs": [
    {
     "data": {
      "text/plain": [
       "(3, 4)"
      ]
     },
     "execution_count": 13,
     "metadata": {},
     "output_type": "execute_result"
    }
   ],
   "source": [
    "listarray.shape"
   ]
  },
  {
   "cell_type": "code",
   "execution_count": 14,
   "id": "83e8f5a2-423d-4e84-b1d2-34d3a35943a8",
   "metadata": {},
   "outputs": [
    {
     "data": {
      "text/plain": [
       "12"
      ]
     },
     "execution_count": 14,
     "metadata": {},
     "output_type": "execute_result"
    }
   ],
   "source": [
    "listarray.size"
   ]
  },
  {
   "cell_type": "code",
   "execution_count": 15,
   "id": "05fb164c-f217-465a-8f46-2c810455fa51",
   "metadata": {},
   "outputs": [
    {
     "data": {
      "text/plain": [
       "dtype('int32')"
      ]
     },
     "execution_count": 15,
     "metadata": {},
     "output_type": "execute_result"
    }
   ],
   "source": [
    "listarray.dtype"
   ]
  },
  {
   "cell_type": "code",
   "execution_count": 16,
   "id": "fc771209-63ae-4a9f-9433-89dfbdcc3c6d",
   "metadata": {},
   "outputs": [
    {
     "data": {
      "text/plain": [
       "array({34, 43, 23}, dtype=object)"
      ]
     },
     "execution_count": 16,
     "metadata": {},
     "output_type": "execute_result"
    }
   ],
   "source": [
    "np.array({34,23,43})"
   ]
  },
  {
   "cell_type": "markdown",
   "id": "c00aaa0b-e01d-461d-a439-2419628a1df3",
   "metadata": {},
   "source": [
    "**2. Intrinsic numpy array creation objects (e.g arange, ones, zero, etc)**"
   ]
  },
  {
   "cell_type": "code",
   "execution_count": 17,
   "id": "5ce23841-3415-4540-b2b2-e26e3f2ebd81",
   "metadata": {},
   "outputs": [
    {
     "data": {
      "text/plain": [
       "array([[0., 0.],\n",
       "       [0., 0.]])"
      ]
     },
     "execution_count": 17,
     "metadata": {},
     "output_type": "execute_result"
    }
   ],
   "source": [
    "zeros = np.zeros((2,2))\n",
    "zeros"
   ]
  },
  {
   "cell_type": "code",
   "execution_count": 18,
   "id": "625dde7f-26e4-4d17-a964-452ebc7d28ad",
   "metadata": {},
   "outputs": [
    {
     "data": {
      "text/plain": [
       "dtype('float64')"
      ]
     },
     "execution_count": 18,
     "metadata": {},
     "output_type": "execute_result"
    }
   ],
   "source": [
    "zeros.dtype"
   ]
  },
  {
   "cell_type": "code",
   "execution_count": 19,
   "id": "42179ce6-6222-4cd4-bccf-2e883af1e99b",
   "metadata": {},
   "outputs": [
    {
     "data": {
      "text/plain": [
       "array([0, 1, 2, 3, 4, 5, 6, 7, 8, 9])"
      ]
     },
     "execution_count": 19,
     "metadata": {},
     "output_type": "execute_result"
    }
   ],
   "source": [
    "arange = np.arange(10)\n",
    "arange"
   ]
  },
  {
   "cell_type": "code",
   "execution_count": 20,
   "id": "ff371ac2-5c4a-44e0-a66e-12a999cf0c45",
   "metadata": {},
   "outputs": [
    {
     "data": {
      "text/plain": [
       "array([1.        , 1.44444444, 1.88888889, 2.33333333, 2.77777778,\n",
       "       3.22222222, 3.66666667, 4.11111111, 4.55555556, 5.        ])"
      ]
     },
     "execution_count": 20,
     "metadata": {},
     "output_type": "execute_result"
    }
   ],
   "source": [
    "lspace = np.linspace(1,5,10) # 1 se 5 tak linearly equally spaced 10 elements dega\n",
    "lspace"
   ]
  },
  {
   "cell_type": "code",
   "execution_count": 21,
   "id": "fdcf64a0-f9e3-4a5a-acd9-7cae88eb3c30",
   "metadata": {},
   "outputs": [
    {
     "data": {
      "text/plain": [
       "array([[1.06443438e-311, 1.06443438e-311],\n",
       "       [1.06443438e-311, 1.20161865e-306],\n",
       "       [1.89146896e-307, 7.56571288e-307]])"
      ]
     },
     "execution_count": 21,
     "metadata": {},
     "output_type": "execute_result"
    }
   ],
   "source": [
    "emp = np.empty((3,2)) \n",
    "emp"
   ]
  },
  {
   "cell_type": "code",
   "execution_count": 22,
   "id": "f712d169-ce5f-4552-b602-7b7f97836d97",
   "metadata": {},
   "outputs": [
    {
     "data": {
      "text/plain": [
       "array([1.        , 1.44444444, 1.88888889, 2.33333333, 2.77777778,\n",
       "       3.22222222, 3.66666667, 4.11111111, 4.55555556, 5.        ])"
      ]
     },
     "execution_count": 22,
     "metadata": {},
     "output_type": "execute_result"
    }
   ],
   "source": [
    "emp_like = np.empty_like(lspace) # make a empty array of size of given array\n",
    "emp_like"
   ]
  },
  {
   "cell_type": "code",
   "execution_count": 23,
   "id": "64a8759b-9848-427c-b9b0-0ca88c7cacee",
   "metadata": {},
   "outputs": [
    {
     "data": {
      "text/plain": [
       "array([[1., 0., 0.],\n",
       "       [0., 1., 0.],\n",
       "       [0., 0., 1.]])"
      ]
     },
     "execution_count": 23,
     "metadata": {},
     "output_type": "execute_result"
    }
   ],
   "source": [
    "ide = np.identity(3)\n",
    "ide"
   ]
  },
  {
   "cell_type": "code",
   "execution_count": 24,
   "id": "a13c5247-a951-43ba-bc4b-f44b78a42986",
   "metadata": {},
   "outputs": [
    {
     "data": {
      "text/plain": [
       "array([ 0,  1,  2,  3,  4,  5,  6,  7,  8,  9, 10, 11, 12, 13, 14, 15, 16,\n",
       "       17, 18, 19, 20, 21, 22, 23, 24, 25, 26, 27, 28, 29])"
      ]
     },
     "execution_count": 24,
     "metadata": {},
     "output_type": "execute_result"
    }
   ],
   "source": [
    "arr = np.arange(30)\n",
    "arr"
   ]
  },
  {
   "cell_type": "code",
   "execution_count": 25,
   "id": "0768bbe0-b0fd-4371-af80-89dea15ae3f2",
   "metadata": {},
   "outputs": [
    {
     "data": {
      "text/plain": [
       "array([ 0,  1,  2,  3,  4,  5,  6,  7,  8,  9, 10, 11, 12, 13, 14, 15, 16,\n",
       "       17, 18, 19, 20, 21, 22, 23, 24, 25, 26, 27, 28, 29])"
      ]
     },
     "execution_count": 25,
     "metadata": {},
     "output_type": "execute_result"
    }
   ],
   "source": [
    "arr"
   ]
  },
  {
   "cell_type": "code",
   "execution_count": 26,
   "id": "16dfed6c-df53-4000-99b3-84db9f577366",
   "metadata": {},
   "outputs": [
    {
     "data": {
      "text/plain": [
       "array([ 0,  1,  2,  3,  4,  5,  6,  7,  8,  9, 10, 11, 12, 13, 14, 15, 16,\n",
       "       17, 18, 19, 20, 21, 22, 23, 24, 25, 26, 27, 28, 29])"
      ]
     },
     "execution_count": 26,
     "metadata": {},
     "output_type": "execute_result"
    }
   ],
   "source": [
    "arr = arr.ravel() # becomes 1-d array\n",
    "arr"
   ]
  },
  {
   "cell_type": "markdown",
   "id": "5703a50b-75d3-42f9-8a0a-613c0f11aa97",
   "metadata": {},
   "source": [
    "# AXIS"
   ]
  },
  {
   "cell_type": "raw",
   "id": "2c550641-a091-4fe5-a4a5-98e4df485b2e",
   "metadata": {},
   "source": [
    "axis 0 - row\n",
    "axis 1 - column"
   ]
  },
  {
   "cell_type": "code",
   "execution_count": 27,
   "id": "7ca03163-2150-48f6-b678-f56c5b4990d7",
   "metadata": {},
   "outputs": [
    {
     "data": {
      "text/plain": [
       "[[1, 2, 3], [4, 5, 6], [7, 8, 9]]"
      ]
     },
     "execution_count": 27,
     "metadata": {},
     "output_type": "execute_result"
    }
   ],
   "source": [
    "x = [[1,2,3], [4,5,6], [7,8,9]]\n",
    "x"
   ]
  },
  {
   "cell_type": "code",
   "execution_count": 28,
   "id": "90637179-2f05-4a80-bde4-96a7e829473a",
   "metadata": {},
   "outputs": [
    {
     "data": {
      "text/plain": [
       "array([[1, 2, 3],\n",
       "       [4, 5, 6],\n",
       "       [7, 8, 9]])"
      ]
     },
     "execution_count": 28,
     "metadata": {},
     "output_type": "execute_result"
    }
   ],
   "source": [
    "ar = np.array(x)\n",
    "ar"
   ]
  },
  {
   "cell_type": "code",
   "execution_count": 29,
   "id": "d276bf04-b741-4124-bff7-29bffae31952",
   "metadata": {},
   "outputs": [
    {
     "data": {
      "text/plain": [
       "array([12, 15, 18])"
      ]
     },
     "execution_count": 29,
     "metadata": {},
     "output_type": "execute_result"
    }
   ],
   "source": [
    "ar.sum(axis=0)"
   ]
  },
  {
   "cell_type": "code",
   "execution_count": 30,
   "id": "240781f3-9aa8-45a4-b07a-f9b74cdb0415",
   "metadata": {},
   "outputs": [
    {
     "data": {
      "text/plain": [
       "array([ 6, 15, 24])"
      ]
     },
     "execution_count": 30,
     "metadata": {},
     "output_type": "execute_result"
    }
   ],
   "source": [
    "ar.sum(axis=1)"
   ]
  },
  {
   "cell_type": "markdown",
   "id": "d0df7445-2626-412a-92b3-ac896a45c3bc",
   "metadata": {},
   "source": [
    "**Attributes**"
   ]
  },
  {
   "cell_type": "code",
   "execution_count": 31,
   "id": "dd6461bf-cba7-49c8-ba16-2204dbdac5d2",
   "metadata": {},
   "outputs": [
    {
     "data": {
      "text/plain": [
       "array([[1, 4, 7],\n",
       "       [2, 5, 8],\n",
       "       [3, 6, 9]])"
      ]
     },
     "execution_count": 31,
     "metadata": {},
     "output_type": "execute_result"
    }
   ],
   "source": [
    "# Transpose\n",
    "ar.T"
   ]
  },
  {
   "cell_type": "code",
   "execution_count": 32,
   "id": "540f534a-e3ac-4b87-89ee-765720ddd80c",
   "metadata": {},
   "outputs": [
    {
     "data": {
      "text/plain": [
       "<numpy.flatiter at 0x1f5975afc60>"
      ]
     },
     "execution_count": 32,
     "metadata": {},
     "output_type": "execute_result"
    }
   ],
   "source": [
    "ar.flat # gives iterator"
   ]
  },
  {
   "cell_type": "code",
   "execution_count": 33,
   "id": "2bd5bf44-6c90-460e-af19-6b64e2e66f15",
   "metadata": {},
   "outputs": [
    {
     "name": "stdout",
     "output_type": "stream",
     "text": [
      "1\n",
      "2\n",
      "3\n",
      "4\n",
      "5\n",
      "6\n",
      "7\n",
      "8\n",
      "9\n"
     ]
    }
   ],
   "source": [
    "for item in ar.flat:\n",
    "    print(item)"
   ]
  },
  {
   "cell_type": "code",
   "execution_count": 34,
   "id": "88f10a84-57d4-43dc-b891-a3888c098992",
   "metadata": {},
   "outputs": [
    {
     "data": {
      "text/plain": [
       "2"
      ]
     },
     "execution_count": 34,
     "metadata": {},
     "output_type": "execute_result"
    }
   ],
   "source": [
    "ar.ndim # give the number of dimension"
   ]
  },
  {
   "cell_type": "code",
   "execution_count": 35,
   "id": "103f74ff-131c-4655-af90-b5c7c1e938da",
   "metadata": {},
   "outputs": [
    {
     "data": {
      "text/plain": [
       "9"
      ]
     },
     "execution_count": 35,
     "metadata": {},
     "output_type": "execute_result"
    }
   ],
   "source": [
    "ar.size # gives total number of elements"
   ]
  },
  {
   "cell_type": "code",
   "execution_count": 36,
   "id": "e2451b6c-e2d6-4945-b0d4-3e7065979dcf",
   "metadata": {},
   "outputs": [
    {
     "data": {
      "text/plain": [
       "36"
      ]
     },
     "execution_count": 36,
     "metadata": {},
     "output_type": "execute_result"
    }
   ],
   "source": [
    "ar.nbytes  # shows that how many bytes are consumed by that array"
   ]
  },
  {
   "cell_type": "markdown",
   "id": "cfe543de-9cab-4f93-b0e1-22d5d4ef94ef",
   "metadata": {},
   "source": [
    "# Array Spliting"
   ]
  },
  {
   "cell_type": "code",
   "execution_count": 37,
   "id": "1d1d8335-2eff-467c-a8bd-900ba383d73a",
   "metadata": {},
   "outputs": [
    {
     "data": {
      "text/plain": [
       "array([[1, 2, 3],\n",
       "       [4, 5, 6],\n",
       "       [7, 8, 9]])"
      ]
     },
     "execution_count": 37,
     "metadata": {},
     "output_type": "execute_result"
    }
   ],
   "source": [
    "ar"
   ]
  },
  {
   "cell_type": "code",
   "execution_count": 38,
   "id": "992bd019-76b2-4f7d-8911-3edd55dd5d47",
   "metadata": {},
   "outputs": [
    {
     "data": {
      "text/plain": [
       "[array([[1, 2, 3]]), array([[4, 5, 6]]), array([[7, 8, 9]])]"
      ]
     },
     "execution_count": 38,
     "metadata": {},
     "output_type": "execute_result"
    }
   ],
   "source": [
    "# numpy.split(ary, indices_or_sections, axis=0)\n",
    "np.split(ar, 3, axis=0)"
   ]
  },
  {
   "cell_type": "code",
   "execution_count": 39,
   "id": "59ab05b8-e9e4-4f63-9979-2a786bf81cb6",
   "metadata": {},
   "outputs": [
    {
     "data": {
      "text/plain": [
       "[array([[1],\n",
       "        [4],\n",
       "        [7]]),\n",
       " array([[2],\n",
       "        [5],\n",
       "        [8]]),\n",
       " array([[3],\n",
       "        [6],\n",
       "        [9]])]"
      ]
     },
     "execution_count": 39,
     "metadata": {},
     "output_type": "execute_result"
    }
   ],
   "source": [
    "np.split(ar, 3, axis=1)"
   ]
  },
  {
   "cell_type": "markdown",
   "id": "ba9bc5ec-3ccf-4e1e-af05-6e88b08a9c4a",
   "metadata": {},
   "source": [
    "**Methods**"
   ]
  },
  {
   "cell_type": "code",
   "execution_count": 40,
   "id": "a4d1ff16-1636-411e-8834-184460dcf665",
   "metadata": {},
   "outputs": [
    {
     "data": {
      "text/plain": [
       "array([ 3,  2, 10,  4,  1])"
      ]
     },
     "execution_count": 40,
     "metadata": {},
     "output_type": "execute_result"
    }
   ],
   "source": [
    "one = np.array([3,2,10,4,1])\n",
    "one"
   ]
  },
  {
   "cell_type": "code",
   "execution_count": 41,
   "id": "3edd41e3-66d0-4c20-9681-5b0e48e46313",
   "metadata": {},
   "outputs": [
    {
     "data": {
      "text/plain": [
       "2"
      ]
     },
     "execution_count": 41,
     "metadata": {},
     "output_type": "execute_result"
    }
   ],
   "source": [
    "one.argmax()  # gives index of the maximum element"
   ]
  },
  {
   "cell_type": "code",
   "execution_count": 42,
   "id": "caa9c38b-0e4a-4937-9b3f-39ac7e375e8a",
   "metadata": {},
   "outputs": [
    {
     "data": {
      "text/plain": [
       "4"
      ]
     },
     "execution_count": 42,
     "metadata": {},
     "output_type": "execute_result"
    }
   ],
   "source": [
    "one.argmin()"
   ]
  },
  {
   "cell_type": "code",
   "execution_count": 43,
   "id": "98c0a163-ad8f-41d0-9543-81679574218e",
   "metadata": {},
   "outputs": [
    {
     "data": {
      "text/plain": [
       "array([4, 1, 0, 3, 2], dtype=int64)"
      ]
     },
     "execution_count": 43,
     "metadata": {},
     "output_type": "execute_result"
    }
   ],
   "source": [
    "one.argsort() # gives the indexes in of sorted array"
   ]
  },
  {
   "cell_type": "code",
   "execution_count": 44,
   "id": "787301cd-bb6a-438c-b516-7065502b9ecd",
   "metadata": {},
   "outputs": [
    {
     "data": {
      "text/plain": [
       "array([[1, 2, 3],\n",
       "       [4, 5, 6],\n",
       "       [7, 8, 9]])"
      ]
     },
     "execution_count": 44,
     "metadata": {},
     "output_type": "execute_result"
    }
   ],
   "source": [
    "ar"
   ]
  },
  {
   "cell_type": "code",
   "execution_count": 45,
   "id": "41a8daee-c6cd-46fc-8b32-e480e41c08a0",
   "metadata": {},
   "outputs": [
    {
     "data": {
      "text/plain": [
       "0"
      ]
     },
     "execution_count": 45,
     "metadata": {},
     "output_type": "execute_result"
    }
   ],
   "source": [
    "ar.argmin() # first makes it 1-d and then counts index"
   ]
  },
  {
   "cell_type": "code",
   "execution_count": 46,
   "id": "ae2538af-c223-4e8a-8c84-5b68cb1cc660",
   "metadata": {},
   "outputs": [
    {
     "data": {
      "text/plain": [
       "8"
      ]
     },
     "execution_count": 46,
     "metadata": {},
     "output_type": "execute_result"
    }
   ],
   "source": [
    "ar.argmax()"
   ]
  },
  {
   "cell_type": "code",
   "execution_count": 47,
   "id": "f2fa1fce-0670-40b9-88af-f0a7d07e3ee0",
   "metadata": {},
   "outputs": [
    {
     "data": {
      "text/plain": [
       "array([[1, 0, 4],\n",
       "       [7, 9, 2],\n",
       "       [8, 5, 2]])"
      ]
     },
     "execution_count": 47,
     "metadata": {},
     "output_type": "execute_result"
    }
   ],
   "source": [
    "newArr = np.array([[1,0,4],[7,9,2],[8,5,2]])\n",
    "newArr"
   ]
  },
  {
   "cell_type": "code",
   "execution_count": 48,
   "id": "1970d81c-21fd-4f6f-a061-501ffdf1db71",
   "metadata": {},
   "outputs": [
    {
     "data": {
      "text/plain": [
       "array([2, 1, 0], dtype=int64)"
      ]
     },
     "execution_count": 48,
     "metadata": {},
     "output_type": "execute_result"
    }
   ],
   "source": [
    "newArr.argmax(axis=0)"
   ]
  },
  {
   "cell_type": "code",
   "execution_count": 49,
   "id": "7b12311c-be78-49a5-814f-b41f0b004677",
   "metadata": {},
   "outputs": [
    {
     "data": {
      "text/plain": [
       "array([1, 2, 2], dtype=int64)"
      ]
     },
     "execution_count": 49,
     "metadata": {},
     "output_type": "execute_result"
    }
   ],
   "source": [
    "newArr.argmin(axis=1)"
   ]
  },
  {
   "cell_type": "code",
   "execution_count": 50,
   "id": "f27fa14e-f99a-4615-8b97-19a5d3eddf34",
   "metadata": {},
   "outputs": [
    {
     "data": {
      "text/plain": [
       "array([[1, 0, 2],\n",
       "       [2, 0, 1],\n",
       "       [2, 1, 0]], dtype=int64)"
      ]
     },
     "execution_count": 50,
     "metadata": {},
     "output_type": "execute_result"
    }
   ],
   "source": [
    "newArr.argsort(axis=1)"
   ]
  },
  {
   "cell_type": "code",
   "execution_count": 51,
   "id": "d3f8e80e-9a77-44a2-9583-a5bb661d2b6a",
   "metadata": {},
   "outputs": [
    {
     "data": {
      "text/plain": [
       "array([1, 0, 4, 7, 9, 2, 8, 5, 2])"
      ]
     },
     "execution_count": 51,
     "metadata": {},
     "output_type": "execute_result"
    }
   ],
   "source": [
    "newArr.reshape(9,)"
   ]
  },
  {
   "cell_type": "code",
   "execution_count": 52,
   "id": "c4ba7245-cc09-4ccb-9ab9-4e69f663c616",
   "metadata": {},
   "outputs": [
    {
     "data": {
      "text/plain": [
       "array([1, 0, 4, 7, 9, 2, 8, 5, 2])"
      ]
     },
     "execution_count": 52,
     "metadata": {},
     "output_type": "execute_result"
    }
   ],
   "source": [
    "newArr.ravel()"
   ]
  },
  {
   "cell_type": "code",
   "execution_count": 53,
   "id": "dc2bee77-7bf9-4047-a600-e0eb8b578b36",
   "metadata": {},
   "outputs": [
    {
     "data": {
      "text/plain": [
       "array([1, 0, 4, 7, 9, 2, 8, 5, 2])"
      ]
     },
     "execution_count": 53,
     "metadata": {},
     "output_type": "execute_result"
    }
   ],
   "source": [
    "newArr.flatten() # also accepts aome parameters :- docs"
   ]
  },
  {
   "cell_type": "code",
   "execution_count": 54,
   "id": "618b14dd-5043-4d07-9f2e-6b7cc5600477",
   "metadata": {},
   "outputs": [
    {
     "data": {
      "text/plain": [
       "array([[0, 1, 2, 3],\n",
       "       [4, 5, 6, 7]])"
      ]
     },
     "execution_count": 54,
     "metadata": {},
     "output_type": "execute_result"
    }
   ],
   "source": [
    "a = np.arange(8).reshape(2,4)\n",
    "a"
   ]
  },
  {
   "cell_type": "code",
   "execution_count": 55,
   "id": "fe99b05c-f2f5-42ee-b6de-0e456cdb3daf",
   "metadata": {},
   "outputs": [
    {
     "data": {
      "text/plain": [
       "array([[[0, 1],\n",
       "        [2, 3]],\n",
       "\n",
       "       [[4, 5],\n",
       "        [6, 7]]])"
      ]
     },
     "execution_count": 55,
     "metadata": {},
     "output_type": "execute_result"
    }
   ],
   "source": [
    "a = a.reshape(2,2,2)\n",
    "a"
   ]
  },
  {
   "cell_type": "code",
   "execution_count": 56,
   "id": "86f4efd3-b54b-49d7-9a05-fdd392591733",
   "metadata": {},
   "outputs": [
    {
     "data": {
      "text/plain": [
       "array([[[0, 2],\n",
       "        [1, 3]],\n",
       "\n",
       "       [[4, 6],\n",
       "        [5, 7]]])"
      ]
     },
     "execution_count": 56,
     "metadata": {},
     "output_type": "execute_result"
    }
   ],
   "source": [
    "np.rollaxis(a,2,1)\n",
    "# np.rollaxis(a,1)\n",
    "# np.rollaxis(a,2)\n",
    "# np.rollaxis(a,1,2)"
   ]
  },
  {
   "cell_type": "code",
   "execution_count": 57,
   "id": "5f679736-8c41-48c2-a7dc-fcfe8b359a41",
   "metadata": {},
   "outputs": [
    {
     "data": {
      "text/plain": [
       "array([[[0, 2],\n",
       "        [1, 3]],\n",
       "\n",
       "       [[4, 6],\n",
       "        [5, 7]]])"
      ]
     },
     "execution_count": 57,
     "metadata": {},
     "output_type": "execute_result"
    }
   ],
   "source": [
    "np.swapaxes(a,1,2)"
   ]
  },
  {
   "cell_type": "markdown",
   "id": "c8bbdb12-a4a1-404c-8fc6-727b4a6845cd",
   "metadata": {},
   "source": [
    "# Matrix Operations"
   ]
  },
  {
   "cell_type": "code",
   "execution_count": 58,
   "id": "49def038-d139-4f1b-be27-ebd621d3f6c7",
   "metadata": {},
   "outputs": [
    {
     "data": {
      "text/plain": [
       "array([[1, 0, 4],\n",
       "       [7, 9, 2],\n",
       "       [8, 5, 2]])"
      ]
     },
     "execution_count": 58,
     "metadata": {},
     "output_type": "execute_result"
    }
   ],
   "source": [
    "newArr"
   ]
  },
  {
   "cell_type": "code",
   "execution_count": 59,
   "id": "aa562fff-d01a-44e9-86ae-c890cbd7963b",
   "metadata": {},
   "outputs": [
    {
     "data": {
      "text/plain": [
       "array([[1, 2, 3],\n",
       "       [4, 5, 6],\n",
       "       [7, 8, 9]])"
      ]
     },
     "execution_count": 59,
     "metadata": {},
     "output_type": "execute_result"
    }
   ],
   "source": [
    "ar"
   ]
  },
  {
   "cell_type": "code",
   "execution_count": 60,
   "id": "da169e89-ce78-497b-8e7e-22f4c025af3d",
   "metadata": {},
   "outputs": [
    {
     "data": {
      "text/plain": [
       "array([[ 2,  2,  7],\n",
       "       [11, 14,  8],\n",
       "       [15, 13, 11]])"
      ]
     },
     "execution_count": 60,
     "metadata": {},
     "output_type": "execute_result"
    }
   ],
   "source": [
    "ar + newArr # or np.add(ar, newArr), same for other operations"
   ]
  },
  {
   "cell_type": "code",
   "execution_count": 61,
   "id": "3a26d883-c280-4531-8169-6b405f41aa95",
   "metadata": {},
   "outputs": [
    {
     "data": {
      "text/plain": [
       "[12, 43, 10, 55]"
      ]
     },
     "execution_count": 61,
     "metadata": {},
     "output_type": "execute_result"
    }
   ],
   "source": [
    "[12, 43] + [10, 55]"
   ]
  },
  {
   "cell_type": "code",
   "execution_count": 62,
   "id": "59a66652-d4d4-4f90-9542-219271a80113",
   "metadata": {},
   "outputs": [
    {
     "data": {
      "text/plain": [
       "array([[ 1,  0, 12],\n",
       "       [28, 45, 12],\n",
       "       [56, 40, 18]])"
      ]
     },
     "execution_count": 62,
     "metadata": {},
     "output_type": "execute_result"
    }
   ],
   "source": [
    "ar * newArr "
   ]
  },
  {
   "cell_type": "code",
   "execution_count": 63,
   "id": "5f5d6ae3-9549-4792-aabc-79be9140b86e",
   "metadata": {},
   "outputs": [
    {
     "data": {
      "text/plain": [
       "array([[1.        , 0.        , 1.33333333],\n",
       "       [1.75      , 1.8       , 0.33333333],\n",
       "       [1.14285714, 0.625     , 0.22222222]])"
      ]
     },
     "execution_count": 63,
     "metadata": {},
     "output_type": "execute_result"
    }
   ],
   "source": [
    "newArr / ar"
   ]
  },
  {
   "cell_type": "code",
   "execution_count": 64,
   "id": "ed424b0e-6908-4b07-8884-c03fb3a27db0",
   "metadata": {},
   "outputs": [
    {
     "data": {
      "text/plain": [
       "array([[1.        , 1.41421356, 1.73205081],\n",
       "       [2.        , 2.23606798, 2.44948974],\n",
       "       [2.64575131, 2.82842712, 3.        ]])"
      ]
     },
     "execution_count": 64,
     "metadata": {},
     "output_type": "execute_result"
    }
   ],
   "source": [
    "np.sqrt(ar)"
   ]
  },
  {
   "cell_type": "code",
   "execution_count": 65,
   "id": "d92a3fe8-59bc-492c-b8db-29e3219e933f",
   "metadata": {},
   "outputs": [
    {
     "data": {
      "text/plain": [
       "1"
      ]
     },
     "execution_count": 65,
     "metadata": {},
     "output_type": "execute_result"
    }
   ],
   "source": [
    "ar.min()"
   ]
  },
  {
   "cell_type": "code",
   "execution_count": 66,
   "id": "1310e413-09ac-4927-b0da-28e001a23ee9",
   "metadata": {},
   "outputs": [
    {
     "data": {
      "text/plain": [
       "9"
      ]
     },
     "execution_count": 66,
     "metadata": {},
     "output_type": "execute_result"
    }
   ],
   "source": [
    "ar.max()"
   ]
  },
  {
   "cell_type": "code",
   "execution_count": 67,
   "id": "f51eb617-d6bd-479a-ab62-e3631c115179",
   "metadata": {},
   "outputs": [
    {
     "data": {
      "text/plain": [
       "45"
      ]
     },
     "execution_count": 67,
     "metadata": {},
     "output_type": "execute_result"
    }
   ],
   "source": [
    "ar.sum()"
   ]
  },
  {
   "cell_type": "markdown",
   "id": "e59f5d3a-3a4c-4472-93f1-fcc668bea537",
   "metadata": {},
   "source": [
    "# Searching"
   ]
  },
  {
   "cell_type": "code",
   "execution_count": 68,
   "id": "3957aabd-e773-4042-95c8-c04a0ea1e707",
   "metadata": {},
   "outputs": [
    {
     "data": {
      "text/plain": [
       "array([[1, 2, 3],\n",
       "       [4, 5, 6],\n",
       "       [7, 8, 9]])"
      ]
     },
     "execution_count": 68,
     "metadata": {},
     "output_type": "execute_result"
    }
   ],
   "source": [
    "ar"
   ]
  },
  {
   "cell_type": "code",
   "execution_count": 69,
   "id": "eed482a1-2232-4342-ab11-62a8431a37ad",
   "metadata": {},
   "outputs": [
    {
     "data": {
      "text/plain": [
       "(array([1, 2, 2, 2], dtype=int64), array([2, 0, 1, 2], dtype=int64))"
      ]
     },
     "execution_count": 69,
     "metadata": {},
     "output_type": "execute_result"
    }
   ],
   "source": [
    "np.where(ar>5)"
   ]
  },
  {
   "cell_type": "code",
   "execution_count": 70,
   "id": "e37422f2-27ba-4ca6-b764-8dbb4ec977a3",
   "metadata": {},
   "outputs": [
    {
     "data": {
      "text/plain": [
       "tuple"
      ]
     },
     "execution_count": 70,
     "metadata": {},
     "output_type": "execute_result"
    }
   ],
   "source": [
    "type(np.where(ar>1))"
   ]
  },
  {
   "cell_type": "code",
   "execution_count": 71,
   "id": "daedc699-3a84-4114-81da-8abba0038019",
   "metadata": {},
   "outputs": [
    {
     "data": {
      "text/plain": [
       "9"
      ]
     },
     "execution_count": 71,
     "metadata": {},
     "output_type": "execute_result"
    }
   ],
   "source": [
    "np.count_nonzero(ar)  # returns the no. of nonzero elements"
   ]
  },
  {
   "cell_type": "code",
   "execution_count": 72,
   "id": "00230144-6a14-4933-bc6e-a934cec92dcd",
   "metadata": {},
   "outputs": [
    {
     "data": {
      "text/plain": [
       "(array([0, 0, 0, 1, 1, 1, 2, 2, 2], dtype=int64),\n",
       " array([0, 1, 2, 0, 1, 2, 0, 1, 2], dtype=int64))"
      ]
     },
     "execution_count": 72,
     "metadata": {},
     "output_type": "execute_result"
    }
   ],
   "source": [
    "np.nonzero(ar)"
   ]
  },
  {
   "cell_type": "markdown",
   "id": "99774459-b186-412b-ba2b-8ee7e06dce37",
   "metadata": {},
   "source": [
    "# String"
   ]
  },
  {
   "cell_type": "code",
   "execution_count": 73,
   "id": "bab55893-0d8b-48d4-9e0d-20e1385460f0",
   "metadata": {},
   "outputs": [
    {
     "name": "stdout",
     "output_type": "stream",
     "text": [
      "-------Hello--------\n",
      "...Hello...\n"
     ]
    }
   ],
   "source": [
    "print(np.char.center(\"Hello\", 20, fillchar = '-'))\n",
    "print(np.char.center(\"Hello\", 11, fillchar = '.'))"
   ]
  },
  {
   "cell_type": "code",
   "execution_count": 74,
   "id": "0f819b6a-71c3-4ae9-a191-a8306a464fda",
   "metadata": {},
   "outputs": [
    {
     "name": "stdout",
     "output_type": "stream",
     "text": [
      "Hello world\n"
     ]
    }
   ],
   "source": [
    "print(np.char.capitalize(\"hello world\"))"
   ]
  },
  {
   "cell_type": "code",
   "execution_count": 75,
   "id": "fca8a55b-302c-4262-87dc-c8f4bfa50a3f",
   "metadata": {},
   "outputs": [
    {
     "name": "stdout",
     "output_type": "stream",
     "text": [
      "Hello, How Are U Doing?\n"
     ]
    }
   ],
   "source": [
    "print(np.char.title(\"hello, how are u doing?\"))"
   ]
  },
  {
   "cell_type": "code",
   "execution_count": 76,
   "id": "4a8ef76d-bcf4-4be5-8f3e-e50be4989e80",
   "metadata": {},
   "outputs": [
    {
     "name": "stdout",
     "output_type": "stream",
     "text": [
      "hello world\n",
      "HELLO WORLD\n"
     ]
    }
   ],
   "source": [
    "print(np.char.lower(\"HeLLo WoRld\"))\n",
    "print(np.char.upper(\"hello world\"))"
   ]
  },
  {
   "cell_type": "code",
   "execution_count": 77,
   "id": "9d3c6773-b8cd-485e-8cf1-496a5ea15078",
   "metadata": {},
   "outputs": [
    {
     "name": "stdout",
     "output_type": "stream",
     "text": [
      "['Hey', 'are', 'you', 'there?']\n"
     ]
    }
   ],
   "source": [
    "print(np.char.split(\"Hey are you there?\"))"
   ]
  },
  {
   "cell_type": "code",
   "execution_count": 78,
   "id": "e758e6f9-12bb-4f73-b193-32a489872908",
   "metadata": {},
   "outputs": [
    {
     "name": "stdout",
     "output_type": "stream",
     "text": [
      "['Hey ', ' are you there?']\n"
     ]
    }
   ],
   "source": [
    "print(np.char.splitlines(\"Hey \\n are you there?\"))"
   ]
  },
  {
   "cell_type": "code",
   "execution_count": 79,
   "id": "48cd8512-bcec-49c4-8107-aba37a574b20",
   "metadata": {},
   "outputs": [
    {
     "name": "stdout",
     "output_type": "stream",
     "text": [
      "['IPhone' 'ne Plus' 'NOkia']\n",
      "['nit' 'dmin' 'nait']\n"
     ]
    }
   ],
   "source": [
    "# removes the mache delemnet from start and end of that string\n",
    "print(np.char.strip(['IPhone', \"One Plus\", \"NOkia\"], 'O'))\n",
    "print(np.char.strip(['nita', 'admin', 'anaita'], 'a'))"
   ]
  },
  {
   "cell_type": "code",
   "execution_count": 80,
   "id": "3c854576-3679-44c2-9e9d-5f602ed61840",
   "metadata": {},
   "outputs": [
    {
     "name": "stdout",
     "output_type": "stream",
     "text": [
      "['B:r:o' 'C-r-o-w']\n",
      "['2/1/1/1/0/4']\n"
     ]
    }
   ],
   "source": [
    "print(np.char.join([':', \"-\"], ['Bro', 'Crow']))\n",
    "print(np.char.join(['/'], ['211104']))"
   ]
  },
  {
   "cell_type": "code",
   "execution_count": 81,
   "id": "6558d0d4-6204-4144-a8fe-08a0c4116b10",
   "metadata": {},
   "outputs": [
    {
     "name": "stdout",
     "output_type": "stream",
     "text": [
      "He is a good Coder!\n"
     ]
    }
   ],
   "source": [
    "print(np.char.replace(\"He was a good Coder!\", 'was', 'is'))"
   ]
  },
  {
   "cell_type": "markdown",
   "id": "c35a8195-a6be-4125-9f66-b0f75251a585",
   "metadata": {},
   "source": [
    "# Iterator"
   ]
  },
  {
   "cell_type": "code",
   "execution_count": 82,
   "id": "0c62e6e9-d487-4ccb-8821-52e4bc0c75da",
   "metadata": {},
   "outputs": [
    {
     "data": {
      "text/plain": [
       "array([[0, 1, 2],\n",
       "       [3, 4, 5],\n",
       "       [6, 7, 8]])"
      ]
     },
     "execution_count": 82,
     "metadata": {},
     "output_type": "execute_result"
    }
   ],
   "source": [
    "it = np.arange(9)\n",
    "it = it.reshape(3,3)\n",
    "it"
   ]
  },
  {
   "cell_type": "code",
   "execution_count": 83,
   "id": "acb0f1c5-9978-420b-b586-c94cbf229381",
   "metadata": {},
   "outputs": [
    {
     "name": "stdout",
     "output_type": "stream",
     "text": [
      "0\n",
      "1\n",
      "2\n",
      "3\n",
      "4\n",
      "5\n",
      "6\n",
      "7\n",
      "8\n",
      "0\n",
      "3\n",
      "6\n",
      "1\n",
      "4\n",
      "7\n",
      "2\n",
      "5\n",
      "8\n"
     ]
    }
   ],
   "source": [
    "for item in np.nditer(it, order=\"C\"):\n",
    "    print(item)\n",
    "\n",
    "for item in np.nditer(it, order=\"F\"):\n",
    "    print(item)"
   ]
  },
  {
   "cell_type": "markdown",
   "id": "50ecc64a-073b-46f6-b61f-98ced6777f65",
   "metadata": {},
   "source": [
    "# NumPy vs Python"
   ]
  },
  {
   "cell_type": "code",
   "execution_count": 84,
   "id": "18c0f344-7c5e-4646-a0cf-23e9dbf6b8bc",
   "metadata": {},
   "outputs": [],
   "source": [
    "import sys\n",
    "import time"
   ]
  },
  {
   "cell_type": "code",
   "execution_count": 85,
   "id": "a476d278-9809-4903-b980-a44cde1860ea",
   "metadata": {},
   "outputs": [],
   "source": [
    "py_arr = [1,2,3,4]"
   ]
  },
  {
   "cell_type": "code",
   "execution_count": 86,
   "id": "b8942675-bf5c-4a43-9d74-ea84bf271e46",
   "metadata": {},
   "outputs": [],
   "source": [
    "np_arr = np.array(py_arr)"
   ]
  },
  {
   "cell_type": "code",
   "execution_count": 87,
   "id": "74a3d34a-3035-4ace-bad8-d53cdc02a8d0",
   "metadata": {},
   "outputs": [
    {
     "data": {
      "text/plain": [
       "112"
      ]
     },
     "execution_count": 87,
     "metadata": {},
     "output_type": "execute_result"
    }
   ],
   "source": [
    "sys.getsizeof(1) * len(py_arr)"
   ]
  },
  {
   "cell_type": "code",
   "execution_count": 88,
   "id": "e2fb77c9-c134-47a6-8ad1-40f3e072c8ca",
   "metadata": {},
   "outputs": [
    {
     "data": {
      "text/plain": [
       "16"
      ]
     },
     "execution_count": 88,
     "metadata": {},
     "output_type": "execute_result"
    }
   ],
   "source": [
    "np_arr.itemsize * np_arr.size"
   ]
  },
  {
   "cell_type": "code",
   "execution_count": 89,
   "id": "3e628562-61f5-4c22-9289-b822aae92405",
   "metadata": {},
   "outputs": [],
   "source": [
    "size = 100000"
   ]
  },
  {
   "cell_type": "code",
   "execution_count": 90,
   "id": "257fee3b-b045-4be9-af08-2ceff9ae11e3",
   "metadata": {},
   "outputs": [],
   "source": [
    "L1 = range(size)\n",
    "L2 = range(size)\n",
    "\n",
    "A1 = np.arange(size)\n",
    "A2 = np.arange(size)"
   ]
  },
  {
   "cell_type": "code",
   "execution_count": 91,
   "id": "cd5264a1-0144-40d4-8a4e-958d3a6ae0c6",
   "metadata": {},
   "outputs": [
    {
     "name": "stdout",
     "output_type": "stream",
     "text": [
      "Python List Took:  25.271177291870117 sec\n"
     ]
    }
   ],
   "source": [
    "start = time.time()\n",
    "result = [(x+y) for x,y in zip(L1,L2)]\n",
    "result = [(x+y) for x,y in zip(L1,L2)]\n",
    "\n",
    "print(\"Python List Took: \", (time.time() - start) * 1000, \"sec\")"
   ]
  },
  {
   "cell_type": "code",
   "execution_count": 92,
   "id": "2a6ea6c0-916c-4cc8-aa38-dddb8ebd02d8",
   "metadata": {},
   "outputs": [
    {
     "name": "stdout",
     "output_type": "stream",
     "text": [
      "Numpy List Took:  2.096891403198242 sec\n"
     ]
    }
   ],
   "source": [
    "start = time.time()\n",
    "result = A1 + A2\n",
    "\n",
    "print(\"Numpy List Took: \", (time.time() - start) * 1000, \"sec\")"
   ]
  },
  {
   "cell_type": "markdown",
   "id": "3cd4b3c3-1f15-431d-b20e-1fcc74f435b0",
   "metadata": {},
   "source": [
    "# Examples"
   ]
  },
  {
   "cell_type": "markdown",
   "id": "d6f120f1-5756-4cef-b939-76ede0a7ba39",
   "metadata": {},
   "source": [
    "*Sin Graph*"
   ]
  },
  {
   "cell_type": "code",
   "execution_count": 93,
   "id": "eb14f267-f238-42b8-8f51-831867c317ac",
   "metadata": {},
   "outputs": [
    {
     "data": {
      "image/png": "[encoded data removed]",
      "text/plain": [
       "<Figure size 640x480 with 1 Axes>"
      ]
     },
     "metadata": {},
     "output_type": "display_data"
    }
   ],
   "source": [
    "import matplotlib.pyplot as plt\n",
    "import numpy as np\n",
    "\n",
    "x = np.arange(0, 3 * np.pi, 0.1)\n",
    "y = np.sin(x)\n",
    "\n",
    "plt.plot(x,y)\n",
    "plt.show()"
   ]
  },
  {
   "cell_type": "markdown",
   "id": "dc2a2235-9b03-46a7-b052-4e41c557bc0b",
   "metadata": {},
   "source": [
    "*Create a 6x6 two-dimensional array, and let 1 and 0 be placed alternativey across the diagonnals*"
   ]
  },
  {
   "cell_type": "code",
   "execution_count": 94,
   "id": "440232ab-54b3-4160-ac73-273faaf22346",
   "metadata": {},
   "outputs": [
    {
     "data": {
      "text/plain": [
       "array([[0, 1, 0, 1, 0, 1],\n",
       "       [1, 0, 1, 0, 1, 0],\n",
       "       [0, 1, 0, 1, 0, 1],\n",
       "       [1, 0, 1, 0, 1, 0],\n",
       "       [0, 1, 0, 1, 0, 1],\n",
       "       [1, 0, 1, 0, 1, 0]])"
      ]
     },
     "execution_count": 94,
     "metadata": {},
     "output_type": "execute_result"
    }
   ],
   "source": [
    "f = np.zeros((6,6), dtype=int)\n",
    "f[1::2, ::2] = 1\n",
    "f[::2, 1::2] = 1\n",
    "f"
   ]
  },
  {
   "cell_type": "markdown",
   "id": "7ea383a9-0332-44f8-bd46-b5d216d3e3d5",
   "metadata": {},
   "source": [
    "*Find the total number and location of missing values in the array*"
   ]
  },
  {
   "cell_type": "code",
   "execution_count": 95,
   "id": "f00098da-517a-41d0-96b0-26d667537ea8",
   "metadata": {},
   "outputs": [
    {
     "data": {
      "text/plain": [
       "array([[0.49882356, 0.45320655, 0.38064138, 0.86955773, 0.35641935,\n",
       "        0.39628409, 0.17887409, 0.94945514, 0.5646953 , 0.69807325],\n",
       "       [       nan, 0.83645221, 0.46281125, 0.08076024, 0.0113131 ,\n",
       "        0.63325531, 0.47985431, 0.18900586, 0.5403889 , 0.26804555],\n",
       "       [0.15027353, 0.13380448, 0.53707154, 0.84855298, 0.51406656,\n",
       "        0.66874541, 0.01198137, 0.95788115, 0.94378373, 0.67259019],\n",
       "       [0.50436162, 0.95314285, 0.01062745, 0.23003484, 0.94683914,\n",
       "        0.04210887, 0.22758447, 0.74871322, 0.74232638, 0.71231779],\n",
       "       [0.47803036, 0.14574035, 0.21227433, 0.92863631,        nan,\n",
       "        0.08275165, 0.49906137, 0.77307744, 0.21766366, 0.8634438 ],\n",
       "       [       nan, 0.42787937, 0.2495827 , 0.66920345, 0.89097982,\n",
       "        0.61196926, 0.74080648, 0.46193161, 0.65055572, 0.38948618],\n",
       "       [0.96084063, 0.36391464, 0.36423407, 0.13644428, 0.59273985,\n",
       "        0.06500022, 0.79584088, 0.60360106, 0.42169448, 0.90499923],\n",
       "       [       nan, 0.17994133, 0.13116487, 0.64082682, 0.10163955,\n",
       "        0.90202511, 0.74459986, 0.78673027, 0.53520056, 0.1166546 ],\n",
       "       [0.96590981, 0.7771276 , 0.34333776, 0.30246052, 0.6123387 ,\n",
       "        0.54690824, 0.95102514, 0.44504755, 0.96718466, 0.00829676],\n",
       "       [0.96777765, 0.07529867, 0.48255209, 0.00932968, 0.36507014,\n",
       "        0.62758985, 0.12583039, 0.17765289, 0.54597191, 0.70009932]])"
      ]
     },
     "execution_count": 95,
     "metadata": {},
     "output_type": "execute_result"
    }
   ],
   "source": [
    "h = np.random.rand(10,10)\n",
    "h[np.random.randint(10, size=5), np.random.randint(10, size=5)] = np.nan\n",
    "h"
   ]
  },
  {
   "cell_type": "code",
   "execution_count": 96,
   "id": "0b180078-02fe-40a9-a9ac-3e16fecdbde9",
   "metadata": {},
   "outputs": [
    {
     "name": "stdout",
     "output_type": "stream",
     "text": [
      "Total number of missing values:  4\n",
      "Index of missing values are:  [[1 0]\n",
      " [4 4]\n",
      " [5 0]\n",
      " [7 0]]\n",
      "(array([1, 4, 5, 7], dtype=int64), array([0, 4, 0, 0], dtype=int64))\n"
     ]
    },
    {
     "data": {
      "text/plain": [
       "array([[0.49882356, 0.45320655, 0.38064138, 0.86955773, 0.35641935,\n",
       "        0.39628409, 0.17887409, 0.94945514, 0.5646953 , 0.69807325],\n",
       "       [0.        , 0.83645221, 0.46281125, 0.08076024, 0.0113131 ,\n",
       "        0.63325531, 0.47985431, 0.18900586, 0.5403889 , 0.26804555],\n",
       "       [0.15027353, 0.13380448, 0.53707154, 0.84855298, 0.51406656,\n",
       "        0.66874541, 0.01198137, 0.95788115, 0.94378373, 0.67259019],\n",
       "       [0.50436162, 0.95314285, 0.01062745, 0.23003484, 0.94683914,\n",
       "        0.04210887, 0.22758447, 0.74871322, 0.74232638, 0.71231779],\n",
       "       [0.47803036, 0.14574035, 0.21227433, 0.92863631, 0.        ,\n",
       "        0.08275165, 0.49906137, 0.77307744, 0.21766366, 0.8634438 ],\n",
       "       [0.        , 0.42787937, 0.2495827 , 0.66920345, 0.89097982,\n",
       "        0.61196926, 0.74080648, 0.46193161, 0.65055572, 0.38948618],\n",
       "       [0.96084063, 0.36391464, 0.36423407, 0.13644428, 0.59273985,\n",
       "        0.06500022, 0.79584088, 0.60360106, 0.42169448, 0.90499923],\n",
       "       [0.        , 0.17994133, 0.13116487, 0.64082682, 0.10163955,\n",
       "        0.90202511, 0.74459986, 0.78673027, 0.53520056, 0.1166546 ],\n",
       "       [0.96590981, 0.7771276 , 0.34333776, 0.30246052, 0.6123387 ,\n",
       "        0.54690824, 0.95102514, 0.44504755, 0.96718466, 0.00829676],\n",
       "       [0.96777765, 0.07529867, 0.48255209, 0.00932968, 0.36507014,\n",
       "        0.62758985, 0.12583039, 0.17765289, 0.54597191, 0.70009932]])"
      ]
     },
     "execution_count": 96,
     "metadata": {},
     "output_type": "execute_result"
    }
   ],
   "source": [
    "print(\"Total number of missing values: \", np.isnan(h).sum())\n",
    "print(\"Index of missing values are: \", np.argwhere(np.isnan(h)))\n",
    "\n",
    "inds = np.where(np.isnan(h))\n",
    "print(inds)\n",
    "h[inds] = 0\n",
    "h"
   ]
  },
  {
   "cell_type": "code",
   "execution_count": null,
   "id": "2bc89ea8-9f85-4f53-ba0f-68d88af82208",
   "metadata": {},
   "outputs": [],
   "source": []
  }
 ],
 "metadata": {
  "kernelspec": {
   "display_name": "Python 3 (ipykernel)",
   "language": "python",
   "name": "python3"
  },
  "language_info": {
   "codemirror_mode": {
    "name": "ipython",
    "version": 3
   },
   "file_extension": ".py",
   "mimetype": "text/x-python",
   "name": "python",
   "nbconvert_exporter": "python",
   "pygments_lexer": "ipython3",
   "version": "3.11.5"
  }
 },
 "nbformat": 4,
 "nbformat_minor": 5
}
