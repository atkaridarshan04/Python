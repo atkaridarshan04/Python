{
 "cells": [
  {
   "cell_type": "code",
   "execution_count": 1,
   "id": "d95040df-e518-4778-a267-a340b703f97f",
   "metadata": {},
   "outputs": [],
   "source": [
    "import numpy as np\n",
    "import pandas as pd\n",
    "import matplotlib.pyplot as plt\n",
    "\n",
    "from urllib.request import urlopen\n",
    "from bs4 import BeautifulSoup\n",
    "import re      # for manipulating imported data"
   ]
  },
  {
   "cell_type": "code",
   "execution_count": 2,
   "id": "c51d00ba-6fbb-4453-bc58-f7c2bd8e9527",
   "metadata": {},
   "outputs": [],
   "source": [
    "url = \"https://www.hubertiming.com/results/2018MLK\"  # open link\n",
    "html = urlopen(url)"
   ]
  },
  {
   "cell_type": "code",
   "execution_count": 3,
   "id": "9b859131-c585-48ad-82c4-317a87ed85ec",
   "metadata": {},
   "outputs": [],
   "source": [
    "# soup = BeautifulSoup(html, \"lxml\")\n",
    "soup = BeautifulSoup(html) # bydefault it is \"lxml\""
   ]
  },
  {
   "cell_type": "markdown",
   "id": "d9f68376-5e5f-4fcd-a1c3-0aacecae4f1e",
   "metadata": {},
   "source": [
    "### Extracting Data"
   ]
  },
  {
   "cell_type": "code",
   "execution_count": 4,
   "id": "f5db4c70-a6c6-4289-a902-c3110bfdec79",
   "metadata": {},
   "outputs": [
    {
     "name": "stdout",
     "output_type": "stream",
     "text": [
      "<title>Race results for the 2018 MLK Dream Run!</title>\n",
      "Race results for the 2018 MLK Dream Run!\n"
     ]
    }
   ],
   "source": [
    "title = soup.title\n",
    "print(title)\n",
    "print(title.text)"
   ]
  },
  {
   "cell_type": "code",
   "execution_count": 5,
   "id": "319143b5-b700-4672-8bc4-c3aa6b5f6cd4",
   "metadata": {},
   "outputs": [
    {
     "name": "stdout",
     "output_type": "stream",
     "text": [
      "https://www.mlkdreamrun.com/\n",
      "mailto:timing@hubertiming.com\n",
      "https://www.hubertiming.com\n",
      "/results/2018MLK10K\n",
      "/results/2018MLK15K\n",
      "/results/summary/2018MLK\n",
      "#tabs-1\n",
      "https://www.hubertiming.com/\n",
      "https://facebook.com/hubertiming/\n"
     ]
    }
   ],
   "source": [
    "# links = soup.find_all('a')\n",
    "links = soup.find_all('a', href=True)\n",
    "\n",
    "# print(links)\n",
    "for link in links:\n",
    "    print(link['href']) # or = print(link.get('href'))"
   ]
  },
  {
   "cell_type": "code",
   "execution_count": 6,
   "id": "60e91e5c-5c9f-466f-9c2e-9e3eb9cddfe2",
   "metadata": {},
   "outputs": [
    {
     "data": {
      "text/plain": [
       "[<tr colspan=\"2\">\n",
       " <b>5K:</b>\n",
       " </tr>,\n",
       " <tr>\n",
       " <td>Finishers:</td>\n",
       " <td>191</td>\n",
       " </tr>,\n",
       " <tr>\n",
       " <td>Male:</td>\n",
       " <td>78</td>\n",
       " </tr>,\n",
       " <tr>\n",
       " <td>Female:</td>\n",
       " <td>113</td>\n",
       " </tr>,\n",
       " <tr class=\"header\">\n",
       " <th>Place</th>\n",
       " <th>Bib</th>\n",
       " <th>Name</th>\n",
       " <th>Gender</th>\n",
       " <th>Age</th>\n",
       " <th>City</th>\n",
       " <th>State</th>\n",
       " <th>Chip Pace</th>\n",
       " <th>Time</th>\n",
       " <th>Gender Place</th>\n",
       " <th>Age Group</th>\n",
       " <th>Age Group Place</th>\n",
       " <th>Time to Start</th>\n",
       " <th>Gun Time</th>\n",
       " </tr>]"
      ]
     },
     "execution_count": 6,
     "metadata": {},
     "output_type": "execute_result"
    }
   ],
   "source": [
    "allrows = soup.find_all('tr')\n",
    "# allrows # gives all rows (lot of data)\n",
    "allrows[:5] # first 5 rows"
   ]
  },
  {
   "cell_type": "code",
   "execution_count": 7,
   "id": "88c7efdb-af41-4916-adfe-32c1fec43ad0",
   "metadata": {},
   "outputs": [
    {
     "name": "stdout",
     "output_type": "stream",
     "text": [
      "[<td>191</td>, <td>1216</td>, <td>\n",
      "\n",
      "                    ZULMA OCHOA\n",
      "\n",
      "                </td>, <td>F</td>, <td>40</td>, <td>GRESHAM</td>, <td>OR</td>, <td>33:22</td>, <td>1:43:27</td>, <td>\n",
      "\n",
      "                    113 of 113\n",
      "\n",
      "                </td>, <td>F 40-54</td>, <td>\n",
      "\n",
      "                    37 of 37\n",
      "\n",
      "                </td>, <td>0:00</td>, <td>1:43:27</td>]\n",
      "191\n",
      "1216\n",
      "\n",
      "\n",
      "                    ZULMA OCHOA\n",
      "\n",
      "                \n",
      "F\n",
      "40\n",
      "GRESHAM\n",
      "OR\n",
      "33:22\n",
      "1:43:27\n",
      "\n",
      "\n",
      "                    113 of 113\n",
      "\n",
      "                \n",
      "F 40-54\n",
      "\n",
      "\n",
      "                    37 of 37\n",
      "\n",
      "                \n",
      "0:00\n",
      "1:43:27\n"
     ]
    }
   ],
   "source": [
    "for row in allrows:\n",
    "    row_list = row.find_all(\"td\")\n",
    "print(row_list)\n",
    "\n",
    "for cell in row_list:\n",
    "    print(cell.text)"
   ]
  },
  {
   "cell_type": "code",
   "execution_count": 8,
   "id": "68e55d64-c3e8-4f2e-b981-14c8925882b6",
   "metadata": {},
   "outputs": [
    {
     "name": "stdout",
     "output_type": "stream",
     "text": [
      "[['190', '2087', '\\r\\n\\r\\n                    LEESHA POSEY\\r\\n\\r\\n                ', 'F', '43', 'PORTLAND', 'OR', '30:17', '1:33:53', '\\r\\n\\r\\n                    112 of 113\\r\\n\\r\\n                ', 'F 40-54', '\\r\\n\\r\\n                    36 of 37\\r\\n\\r\\n                ', '0:00', '1:33:53'], ['191', '1216', '\\r\\n\\r\\n                    ZULMA OCHOA\\r\\n\\r\\n                ', 'F', '40', 'GRESHAM', 'OR', '33:22', '1:43:27', '\\r\\n\\r\\n                    113 of 113\\r\\n\\r\\n                ', 'F 40-54', '\\r\\n\\r\\n                    37 of 37\\r\\n\\r\\n                ', '0:00', '1:43:27']]\n"
     ]
    }
   ],
   "source": [
    "data = []\n",
    "for row in allrows:\n",
    "    row_list = row.find_all(\"td\")\n",
    "    dataRow = []\n",
    "    for cell in row_list:\n",
    "        dataRow.append(cell.text)\n",
    "    data.append(dataRow)   \n",
    "data = data[4:]\n",
    "print(data[-2:])"
   ]
  },
  {
   "cell_type": "code",
   "execution_count": 9,
   "id": "dc254280-9037-4aba-8ae6-717d6e0841ae",
   "metadata": {},
   "outputs": [
    {
     "data": {
      "text/html": [
       "<div>\n",
       "<style scoped>\n",
       "    .dataframe tbody tr th:only-of-type {\n",
       "        vertical-align: middle;\n",
       "    }\n",
       "\n",
       "    .dataframe tbody tr th {\n",
       "        vertical-align: top;\n",
       "    }\n",
       "\n",
       "    .dataframe thead th {\n",
       "        text-align: right;\n",
       "    }\n",
       "</style>\n",
       "<table border=\"1\" class=\"dataframe\">\n",
       "  <thead>\n",
       "    <tr style=\"text-align: right;\">\n",
       "      <th></th>\n",
       "      <th>0</th>\n",
       "      <th>1</th>\n",
       "      <th>2</th>\n",
       "      <th>3</th>\n",
       "      <th>4</th>\n",
       "      <th>5</th>\n",
       "      <th>6</th>\n",
       "      <th>7</th>\n",
       "      <th>8</th>\n",
       "      <th>9</th>\n",
       "      <th>10</th>\n",
       "      <th>11</th>\n",
       "      <th>12</th>\n",
       "      <th>13</th>\n",
       "    </tr>\n",
       "  </thead>\n",
       "  <tbody>\n",
       "    <tr>\n",
       "      <th>0</th>\n",
       "      <td>None</td>\n",
       "      <td>None</td>\n",
       "      <td>None</td>\n",
       "      <td>None</td>\n",
       "      <td>None</td>\n",
       "      <td>None</td>\n",
       "      <td>None</td>\n",
       "      <td>None</td>\n",
       "      <td>None</td>\n",
       "      <td>None</td>\n",
       "      <td>None</td>\n",
       "      <td>None</td>\n",
       "      <td>None</td>\n",
       "      <td>None</td>\n",
       "    </tr>\n",
       "    <tr>\n",
       "      <th>1</th>\n",
       "      <td>1</td>\n",
       "      <td>1191</td>\n",
       "      <td>\\r\\n\\r\\n                    MAX RANDOLPH\\r\\n\\r...</td>\n",
       "      <td>M</td>\n",
       "      <td>29</td>\n",
       "      <td>WASHINGTON</td>\n",
       "      <td>DC</td>\n",
       "      <td>5:25</td>\n",
       "      <td>16:48</td>\n",
       "      <td>\\r\\n\\r\\n                    1 of 78\\r\\n\\r\\n   ...</td>\n",
       "      <td>M 21-39</td>\n",
       "      <td>\\r\\n\\r\\n                    1 of 33\\r\\n\\r\\n   ...</td>\n",
       "      <td>0:08</td>\n",
       "      <td>16:56</td>\n",
       "    </tr>\n",
       "    <tr>\n",
       "      <th>2</th>\n",
       "      <td>2</td>\n",
       "      <td>1080</td>\n",
       "      <td>\\r\\n\\r\\n                    NEED NAME KAISER R...</td>\n",
       "      <td>M</td>\n",
       "      <td>25</td>\n",
       "      <td>PORTLAND</td>\n",
       "      <td>OR</td>\n",
       "      <td>5:39</td>\n",
       "      <td>17:31</td>\n",
       "      <td>\\r\\n\\r\\n                    2 of 78\\r\\n\\r\\n   ...</td>\n",
       "      <td>M 21-39</td>\n",
       "      <td>\\r\\n\\r\\n                    2 of 33\\r\\n\\r\\n   ...</td>\n",
       "      <td>0:09</td>\n",
       "      <td>17:40</td>\n",
       "    </tr>\n",
       "    <tr>\n",
       "      <th>3</th>\n",
       "      <td>3</td>\n",
       "      <td>1275</td>\n",
       "      <td>\\r\\n\\r\\n                    DAN FRANEK\\r\\n\\r\\n...</td>\n",
       "      <td>M</td>\n",
       "      <td>52</td>\n",
       "      <td>PORTLAND</td>\n",
       "      <td>OR</td>\n",
       "      <td>5:53</td>\n",
       "      <td>18:15</td>\n",
       "      <td>\\r\\n\\r\\n                    3 of 78\\r\\n\\r\\n   ...</td>\n",
       "      <td>M 40-54</td>\n",
       "      <td>\\r\\n\\r\\n                    1 of 27\\r\\n\\r\\n   ...</td>\n",
       "      <td>0:07</td>\n",
       "      <td>18:22</td>\n",
       "    </tr>\n",
       "    <tr>\n",
       "      <th>4</th>\n",
       "      <td>4</td>\n",
       "      <td>1223</td>\n",
       "      <td>\\r\\n\\r\\n                    PAUL TAYLOR\\r\\n\\r\\...</td>\n",
       "      <td>M</td>\n",
       "      <td>54</td>\n",
       "      <td>PORTLAND</td>\n",
       "      <td>OR</td>\n",
       "      <td>5:58</td>\n",
       "      <td>18:31</td>\n",
       "      <td>\\r\\n\\r\\n                    4 of 78\\r\\n\\r\\n   ...</td>\n",
       "      <td>M 40-54</td>\n",
       "      <td>\\r\\n\\r\\n                    2 of 27\\r\\n\\r\\n   ...</td>\n",
       "      <td>0:07</td>\n",
       "      <td>18:38</td>\n",
       "    </tr>\n",
       "  </tbody>\n",
       "</table>\n",
       "</div>"
      ],
      "text/plain": [
       "     0     1                                                  2     3     4   \\\n",
       "0  None  None                                               None  None  None   \n",
       "1     1  1191  \\r\\n\\r\\n                    MAX RANDOLPH\\r\\n\\r...     M    29   \n",
       "2     2  1080  \\r\\n\\r\\n                    NEED NAME KAISER R...     M    25   \n",
       "3     3  1275  \\r\\n\\r\\n                    DAN FRANEK\\r\\n\\r\\n...     M    52   \n",
       "4     4  1223  \\r\\n\\r\\n                    PAUL TAYLOR\\r\\n\\r\\...     M    54   \n",
       "\n",
       "           5     6     7      8   \\\n",
       "0        None  None  None   None   \n",
       "1  WASHINGTON    DC  5:25  16:48   \n",
       "2    PORTLAND    OR  5:39  17:31   \n",
       "3    PORTLAND    OR  5:53  18:15   \n",
       "4    PORTLAND    OR  5:58  18:31   \n",
       "\n",
       "                                                  9        10  \\\n",
       "0                                               None     None   \n",
       "1  \\r\\n\\r\\n                    1 of 78\\r\\n\\r\\n   ...  M 21-39   \n",
       "2  \\r\\n\\r\\n                    2 of 78\\r\\n\\r\\n   ...  M 21-39   \n",
       "3  \\r\\n\\r\\n                    3 of 78\\r\\n\\r\\n   ...  M 40-54   \n",
       "4  \\r\\n\\r\\n                    4 of 78\\r\\n\\r\\n   ...  M 40-54   \n",
       "\n",
       "                                                  11    12     13  \n",
       "0                                               None  None   None  \n",
       "1  \\r\\n\\r\\n                    1 of 33\\r\\n\\r\\n   ...  0:08  16:56  \n",
       "2  \\r\\n\\r\\n                    2 of 33\\r\\n\\r\\n   ...  0:09  17:40  \n",
       "3  \\r\\n\\r\\n                    1 of 27\\r\\n\\r\\n   ...  0:07  18:22  \n",
       "4  \\r\\n\\r\\n                    2 of 27\\r\\n\\r\\n   ...  0:07  18:38  "
      ]
     },
     "execution_count": 9,
     "metadata": {},
     "output_type": "execute_result"
    }
   ],
   "source": [
    "df = pd.DataFrame(data)\n",
    "df.head()"
   ]
  },
  {
   "cell_type": "code",
   "execution_count": 10,
   "id": "d0a29bb9-6d0d-430b-8898-5bcc89955c99",
   "metadata": {},
   "outputs": [
    {
     "name": "stdout",
     "output_type": "stream",
     "text": [
      "['Place', 'Bib', 'Name', 'Gender', 'Age', 'City', 'State', 'Chip Pace', 'Time', 'Gender Place', 'Age Group', 'Age Group Place', 'Time to Start', 'Gun Time']\n"
     ]
    }
   ],
   "source": [
    "header_list = []\n",
    "\n",
    "col_headers = soup.find_all('th')\n",
    "col_headers\n",
    "\n",
    "for col in col_headers:\n",
    "    header_list.append(col.text)\n",
    "\n",
    "print(header_list)"
   ]
  },
  {
   "cell_type": "code",
   "execution_count": 11,
   "id": "6811d3e3-f822-465a-a4db-040cdb38e7ac",
   "metadata": {},
   "outputs": [
    {
     "data": {
      "text/html": [
       "<div>\n",
       "<style scoped>\n",
       "    .dataframe tbody tr th:only-of-type {\n",
       "        vertical-align: middle;\n",
       "    }\n",
       "\n",
       "    .dataframe tbody tr th {\n",
       "        vertical-align: top;\n",
       "    }\n",
       "\n",
       "    .dataframe thead th {\n",
       "        text-align: right;\n",
       "    }\n",
       "</style>\n",
       "<table border=\"1\" class=\"dataframe\">\n",
       "  <thead>\n",
       "    <tr style=\"text-align: right;\">\n",
       "      <th></th>\n",
       "      <th>Place</th>\n",
       "      <th>Bib</th>\n",
       "      <th>Name</th>\n",
       "      <th>Gender</th>\n",
       "      <th>Age</th>\n",
       "      <th>City</th>\n",
       "      <th>State</th>\n",
       "      <th>Chip Pace</th>\n",
       "      <th>Time</th>\n",
       "      <th>Gender Place</th>\n",
       "      <th>Age Group</th>\n",
       "      <th>Age Group Place</th>\n",
       "      <th>Time to Start</th>\n",
       "      <th>Gun Time</th>\n",
       "    </tr>\n",
       "  </thead>\n",
       "  <tbody>\n",
       "    <tr>\n",
       "      <th>0</th>\n",
       "      <td>None</td>\n",
       "      <td>None</td>\n",
       "      <td>None</td>\n",
       "      <td>None</td>\n",
       "      <td>None</td>\n",
       "      <td>None</td>\n",
       "      <td>None</td>\n",
       "      <td>None</td>\n",
       "      <td>None</td>\n",
       "      <td>None</td>\n",
       "      <td>None</td>\n",
       "      <td>None</td>\n",
       "      <td>None</td>\n",
       "      <td>None</td>\n",
       "    </tr>\n",
       "    <tr>\n",
       "      <th>1</th>\n",
       "      <td>1</td>\n",
       "      <td>1191</td>\n",
       "      <td>\\r\\n\\r\\n                    MAX RANDOLPH\\r\\n\\r...</td>\n",
       "      <td>M</td>\n",
       "      <td>29</td>\n",
       "      <td>WASHINGTON</td>\n",
       "      <td>DC</td>\n",
       "      <td>5:25</td>\n",
       "      <td>16:48</td>\n",
       "      <td>\\r\\n\\r\\n                    1 of 78\\r\\n\\r\\n   ...</td>\n",
       "      <td>M 21-39</td>\n",
       "      <td>\\r\\n\\r\\n                    1 of 33\\r\\n\\r\\n   ...</td>\n",
       "      <td>0:08</td>\n",
       "      <td>16:56</td>\n",
       "    </tr>\n",
       "    <tr>\n",
       "      <th>2</th>\n",
       "      <td>2</td>\n",
       "      <td>1080</td>\n",
       "      <td>\\r\\n\\r\\n                    NEED NAME KAISER R...</td>\n",
       "      <td>M</td>\n",
       "      <td>25</td>\n",
       "      <td>PORTLAND</td>\n",
       "      <td>OR</td>\n",
       "      <td>5:39</td>\n",
       "      <td>17:31</td>\n",
       "      <td>\\r\\n\\r\\n                    2 of 78\\r\\n\\r\\n   ...</td>\n",
       "      <td>M 21-39</td>\n",
       "      <td>\\r\\n\\r\\n                    2 of 33\\r\\n\\r\\n   ...</td>\n",
       "      <td>0:09</td>\n",
       "      <td>17:40</td>\n",
       "    </tr>\n",
       "    <tr>\n",
       "      <th>3</th>\n",
       "      <td>3</td>\n",
       "      <td>1275</td>\n",
       "      <td>\\r\\n\\r\\n                    DAN FRANEK\\r\\n\\r\\n...</td>\n",
       "      <td>M</td>\n",
       "      <td>52</td>\n",
       "      <td>PORTLAND</td>\n",
       "      <td>OR</td>\n",
       "      <td>5:53</td>\n",
       "      <td>18:15</td>\n",
       "      <td>\\r\\n\\r\\n                    3 of 78\\r\\n\\r\\n   ...</td>\n",
       "      <td>M 40-54</td>\n",
       "      <td>\\r\\n\\r\\n                    1 of 27\\r\\n\\r\\n   ...</td>\n",
       "      <td>0:07</td>\n",
       "      <td>18:22</td>\n",
       "    </tr>\n",
       "    <tr>\n",
       "      <th>4</th>\n",
       "      <td>4</td>\n",
       "      <td>1223</td>\n",
       "      <td>\\r\\n\\r\\n                    PAUL TAYLOR\\r\\n\\r\\...</td>\n",
       "      <td>M</td>\n",
       "      <td>54</td>\n",
       "      <td>PORTLAND</td>\n",
       "      <td>OR</td>\n",
       "      <td>5:58</td>\n",
       "      <td>18:31</td>\n",
       "      <td>\\r\\n\\r\\n                    4 of 78\\r\\n\\r\\n   ...</td>\n",
       "      <td>M 40-54</td>\n",
       "      <td>\\r\\n\\r\\n                    2 of 27\\r\\n\\r\\n   ...</td>\n",
       "      <td>0:07</td>\n",
       "      <td>18:38</td>\n",
       "    </tr>\n",
       "  </tbody>\n",
       "</table>\n",
       "</div>"
      ],
      "text/plain": [
       "  Place   Bib                                               Name Gender   Age  \\\n",
       "0  None  None                                               None   None  None   \n",
       "1     1  1191  \\r\\n\\r\\n                    MAX RANDOLPH\\r\\n\\r...      M    29   \n",
       "2     2  1080  \\r\\n\\r\\n                    NEED NAME KAISER R...      M    25   \n",
       "3     3  1275  \\r\\n\\r\\n                    DAN FRANEK\\r\\n\\r\\n...      M    52   \n",
       "4     4  1223  \\r\\n\\r\\n                    PAUL TAYLOR\\r\\n\\r\\...      M    54   \n",
       "\n",
       "         City State Chip Pace   Time  \\\n",
       "0        None  None      None   None   \n",
       "1  WASHINGTON    DC      5:25  16:48   \n",
       "2    PORTLAND    OR      5:39  17:31   \n",
       "3    PORTLAND    OR      5:53  18:15   \n",
       "4    PORTLAND    OR      5:58  18:31   \n",
       "\n",
       "                                        Gender Place Age Group  \\\n",
       "0                                               None      None   \n",
       "1  \\r\\n\\r\\n                    1 of 78\\r\\n\\r\\n   ...   M 21-39   \n",
       "2  \\r\\n\\r\\n                    2 of 78\\r\\n\\r\\n   ...   M 21-39   \n",
       "3  \\r\\n\\r\\n                    3 of 78\\r\\n\\r\\n   ...   M 40-54   \n",
       "4  \\r\\n\\r\\n                    4 of 78\\r\\n\\r\\n   ...   M 40-54   \n",
       "\n",
       "                                     Age Group Place Time to Start Gun Time  \n",
       "0                                               None          None     None  \n",
       "1  \\r\\n\\r\\n                    1 of 33\\r\\n\\r\\n   ...          0:08    16:56  \n",
       "2  \\r\\n\\r\\n                    2 of 33\\r\\n\\r\\n   ...          0:09    17:40  \n",
       "3  \\r\\n\\r\\n                    1 of 27\\r\\n\\r\\n   ...          0:07    18:22  \n",
       "4  \\r\\n\\r\\n                    2 of 27\\r\\n\\r\\n   ...          0:07    18:38  "
      ]
     },
     "execution_count": 11,
     "metadata": {},
     "output_type": "execute_result"
    }
   ],
   "source": [
    "df.columns = header_list\n",
    "df.head()"
   ]
  },
  {
   "cell_type": "code",
   "execution_count": 12,
   "id": "47e8fab3-ecbf-4730-8d57-5926ad66fd09",
   "metadata": {},
   "outputs": [
    {
     "name": "stdout",
     "output_type": "stream",
     "text": [
      "<class 'pandas.core.frame.DataFrame'>\n",
      "RangeIndex: 192 entries, 0 to 191\n",
      "Data columns (total 14 columns):\n",
      " #   Column           Non-Null Count  Dtype \n",
      "---  ------           --------------  ----- \n",
      " 0   Place            191 non-null    object\n",
      " 1   Bib              191 non-null    object\n",
      " 2   Name             191 non-null    object\n",
      " 3   Gender           191 non-null    object\n",
      " 4   Age              191 non-null    object\n",
      " 5   City             191 non-null    object\n",
      " 6   State            191 non-null    object\n",
      " 7   Chip Pace        191 non-null    object\n",
      " 8   Time             191 non-null    object\n",
      " 9   Gender Place     191 non-null    object\n",
      " 10  Age Group        191 non-null    object\n",
      " 11  Age Group Place  191 non-null    object\n",
      " 12  Time to Start    191 non-null    object\n",
      " 13  Gun Time         191 non-null    object\n",
      "dtypes: object(14)\n",
      "memory usage: 21.1+ KB\n"
     ]
    }
   ],
   "source": [
    "df.info()"
   ]
  },
  {
   "cell_type": "code",
   "execution_count": 13,
   "id": "72b4d44b-626c-4731-adc0-70562b4c4f32",
   "metadata": {},
   "outputs": [
    {
     "data": {
      "text/plain": [
       "(192, 14)"
      ]
     },
     "execution_count": 13,
     "metadata": {},
     "output_type": "execute_result"
    }
   ],
   "source": [
    "df.shape"
   ]
  },
  {
   "cell_type": "code",
   "execution_count": 14,
   "id": "6a88b76e-c7db-4626-b73f-148b6ecb3c75",
   "metadata": {},
   "outputs": [],
   "source": [
    "df2 = df.dropna(how='any')"
   ]
  },
  {
   "cell_type": "code",
   "execution_count": 15,
   "id": "8235585a-7f23-48e1-a770-732cf3fc564c",
   "metadata": {},
   "outputs": [
    {
     "data": {
      "image/png": "[encoded data removed]",
      "text/plain": [
       "<Figure size 640x480 with 1 Axes>"
      ]
     },
     "metadata": {},
     "output_type": "display_data"
    }
   ],
   "source": [
    "plt.bar(df2['Gender'], df2['Time'])\n",
    "plt.xlabel(\"Gender\")\n",
    "plt.ylabel(\"TIme\")\n",
    "plt.title(\"Comparision of average time run by male and female\")\n",
    "plt.yticks([50, 100,150,200])\n",
    "plt.show()"
   ]
  },
  {
   "cell_type": "code",
   "execution_count": 16,
   "id": "b9882ed6-b963-4f53-9a55-4faa44ab5b6a",
   "metadata": {},
   "outputs": [
    {
     "data": {
      "text/html": [
       "<div>\n",
       "<style scoped>\n",
       "    .dataframe tbody tr th:only-of-type {\n",
       "        vertical-align: middle;\n",
       "    }\n",
       "\n",
       "    .dataframe tbody tr th {\n",
       "        vertical-align: top;\n",
       "    }\n",
       "\n",
       "    .dataframe thead th {\n",
       "        text-align: right;\n",
       "    }\n",
       "</style>\n",
       "<table border=\"1\" class=\"dataframe\">\n",
       "  <thead>\n",
       "    <tr style=\"text-align: right;\">\n",
       "      <th></th>\n",
       "      <th>Place</th>\n",
       "      <th>Bib</th>\n",
       "      <th>Name</th>\n",
       "      <th>Gender</th>\n",
       "      <th>Age</th>\n",
       "      <th>City</th>\n",
       "      <th>State</th>\n",
       "      <th>Chip Pace</th>\n",
       "      <th>Time</th>\n",
       "      <th>Gender Place</th>\n",
       "      <th>Age Group</th>\n",
       "      <th>Age Group Place</th>\n",
       "      <th>Time to Start</th>\n",
       "      <th>Gun Time</th>\n",
       "    </tr>\n",
       "  </thead>\n",
       "  <tbody>\n",
       "    <tr>\n",
       "      <th>count</th>\n",
       "      <td>191</td>\n",
       "      <td>191</td>\n",
       "      <td>191</td>\n",
       "      <td>191</td>\n",
       "      <td>191</td>\n",
       "      <td>191</td>\n",
       "      <td>191</td>\n",
       "      <td>191</td>\n",
       "      <td>191</td>\n",
       "      <td>191</td>\n",
       "      <td>191</td>\n",
       "      <td>191</td>\n",
       "      <td>191</td>\n",
       "      <td>191</td>\n",
       "    </tr>\n",
       "    <tr>\n",
       "      <th>unique</th>\n",
       "      <td>191</td>\n",
       "      <td>191</td>\n",
       "      <td>190</td>\n",
       "      <td>2</td>\n",
       "      <td>55</td>\n",
       "      <td>22</td>\n",
       "      <td>6</td>\n",
       "      <td>152</td>\n",
       "      <td>170</td>\n",
       "      <td>191</td>\n",
       "      <td>9</td>\n",
       "      <td>191</td>\n",
       "      <td>45</td>\n",
       "      <td>178</td>\n",
       "    </tr>\n",
       "    <tr>\n",
       "      <th>top</th>\n",
       "      <td>1</td>\n",
       "      <td>1191</td>\n",
       "      <td>\\r\\n\\r\\n                    UNKNOWN RUNNER SEE...</td>\n",
       "      <td>F</td>\n",
       "      <td></td>\n",
       "      <td>PORTLAND</td>\n",
       "      <td>OR</td>\n",
       "      <td>9:28</td>\n",
       "      <td>41:50</td>\n",
       "      <td>\\r\\n\\r\\n                    1 of 78\\r\\n\\r\\n   ...</td>\n",
       "      <td>F 21-39</td>\n",
       "      <td>\\r\\n\\r\\n                    1 of 33\\r\\n\\r\\n   ...</td>\n",
       "      <td>0:26</td>\n",
       "      <td>40:18</td>\n",
       "    </tr>\n",
       "    <tr>\n",
       "      <th>freq</th>\n",
       "      <td>1</td>\n",
       "      <td>1</td>\n",
       "      <td>2</td>\n",
       "      <td>113</td>\n",
       "      <td>9</td>\n",
       "      <td>130</td>\n",
       "      <td>149</td>\n",
       "      <td>4</td>\n",
       "      <td>2</td>\n",
       "      <td>1</td>\n",
       "      <td>53</td>\n",
       "      <td>1</td>\n",
       "      <td>8</td>\n",
       "      <td>2</td>\n",
       "    </tr>\n",
       "  </tbody>\n",
       "</table>\n",
       "</div>"
      ],
      "text/plain": [
       "       Place   Bib                                               Name Gender  \\\n",
       "count    191   191                                                191    191   \n",
       "unique   191   191                                                190      2   \n",
       "top        1  1191  \\r\\n\\r\\n                    UNKNOWN RUNNER SEE...      F   \n",
       "freq       1     1                                                  2    113   \n",
       "\n",
       "        Age      City State Chip Pace   Time  \\\n",
       "count   191       191   191       191    191   \n",
       "unique   55        22     6       152    170   \n",
       "top          PORTLAND    OR      9:28  41:50   \n",
       "freq      9       130   149         4      2   \n",
       "\n",
       "                                             Gender Place Age Group  \\\n",
       "count                                                 191       191   \n",
       "unique                                                191         9   \n",
       "top     \\r\\n\\r\\n                    1 of 78\\r\\n\\r\\n   ...   F 21-39   \n",
       "freq                                                    1        53   \n",
       "\n",
       "                                          Age Group Place Time to Start  \\\n",
       "count                                                 191           191   \n",
       "unique                                                191            45   \n",
       "top     \\r\\n\\r\\n                    1 of 33\\r\\n\\r\\n   ...          0:26   \n",
       "freq                                                    1             8   \n",
       "\n",
       "       Gun Time  \n",
       "count       191  \n",
       "unique      178  \n",
       "top       40:18  \n",
       "freq          2  "
      ]
     },
     "execution_count": 16,
     "metadata": {},
     "output_type": "execute_result"
    }
   ],
   "source": [
    "df2.describe()"
   ]
  },
  {
   "cell_type": "code",
   "execution_count": 17,
   "id": "62d4d871-a61f-42dc-b7af-7a286730bff6",
   "metadata": {},
   "outputs": [
    {
     "name": "stderr",
     "output_type": "stream",
     "text": [
      "C:\\Users\\atkar\\AppData\\Local\\Temp\\ipykernel_15732\\698204702.py:1: SettingWithCopyWarning: \n",
      "A value is trying to be set on a copy of a slice from a DataFrame.\n",
      "Try using .loc[row_indexer,col_indexer] = value instead\n",
      "\n",
      "See the caveats in the documentation: https://pandas.pydata.org/pandas-docs/stable/user_guide/indexing.html#returning-a-view-versus-a-copy\n",
      "  df2['Age_']  = round(pd.to_numeric(df2[\"Age\"], errors = 'coerce'))\n",
      "C:\\Users\\atkar\\AppData\\Local\\Temp\\ipykernel_15732\\698204702.py:2: SettingWithCopyWarning: \n",
      "A value is trying to be set on a copy of a slice from a DataFrame\n",
      "\n",
      "See the caveats in the documentation: https://pandas.pydata.org/pandas-docs/stable/user_guide/indexing.html#returning-a-view-versus-a-copy\n",
      "  df2.dropna(how='any', inplace=True)\n"
     ]
    },
    {
     "data": {
      "text/plain": [
       "Text(0, 0.5, 'Age')"
      ]
     },
     "execution_count": 17,
     "metadata": {},
     "output_type": "execute_result"
    },
    {
     "data": {
      "image/png": "[encoded data removed]",
      "text/plain": [
       "<Figure size 640x480 with 1 Axes>"
      ]
     },
     "metadata": {},
     "output_type": "display_data"
    }
   ],
   "source": [
    "df2['Age_']  = round(pd.to_numeric(df2[\"Age\"], errors = 'coerce'))\n",
    "df2.dropna(how='any', inplace=True)\n",
    "\n",
    "df2.boxplot(column='Age_', by='Gender')\n",
    "plt.ylabel(\"Age\")"
   ]
  },
  {
   "cell_type": "code",
   "execution_count": null,
   "id": "c4eff78b-2ea0-4460-b1d3-caf7e7914d9a",
   "metadata": {},
   "outputs": [],
   "source": []
  }
 ],
 "metadata": {
  "kernelspec": {
   "display_name": "Python 3 (ipykernel)",
   "language": "python",
   "name": "python3"
  },
  "language_info": {
   "codemirror_mode": {
    "name": "ipython",
    "version": 3
   },
   "file_extension": ".py",
   "mimetype": "text/x-python",
   "name": "python",
   "nbconvert_exporter": "python",
   "pygments_lexer": "ipython3",
   "version": "3.11.5"
  }
 },
 "nbformat": 4,
 "nbformat_minor": 5
}
